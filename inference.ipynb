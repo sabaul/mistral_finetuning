{
 "cells": [
  {
   "cell_type": "code",
   "execution_count": 1,
   "id": "41b3b536-cc1d-4170-b2ca-0550de332c3c",
   "metadata": {},
   "outputs": [],
   "source": [
    "import warnings\n",
    "warnings.filterwarnings('ignore')"
   ]
  },
  {
   "cell_type": "code",
   "execution_count": 2,
   "id": "ec98fd33-87ef-4cee-8cdb-07bed655f323",
   "metadata": {},
   "outputs": [],
   "source": [
    "import torch\n",
    "from peft import PeftModel\n",
    "from transformers import AutoTokenizer, AutoModelForCausalLM, BitsAndBytesConfig"
   ]
  },
  {
   "cell_type": "code",
   "execution_count": 3,
   "id": "0ed50e34-fbb0-4065-a962-192807192c15",
   "metadata": {},
   "outputs": [],
   "source": [
    "bnb_config = BitsAndBytesConfig(\n",
    "    load_in_4bit=True,\n",
    "    bnb_4bit_use_double_quant=True,\n",
    "    bnb_4bit_quant_type=\"nf4\",\n",
    "    bnb_4bit_compute_dtype=torch.bfloat16\n",
    ")"
   ]
  },
  {
   "cell_type": "code",
   "execution_count": 4,
   "id": "fb1e6777-bc3e-43b8-a21c-623a64f78780",
   "metadata": {},
   "outputs": [],
   "source": [
    "model_id = \"mistralai/Mistral-7B-Instruct-v0.1\""
   ]
  },
  {
   "cell_type": "code",
   "execution_count": 5,
   "id": "cc58b04f-b4a7-481f-a923-a5a29f18b039",
   "metadata": {},
   "outputs": [
    {
     "data": {
      "application/vnd.jupyter.widget-view+json": {
       "model_id": "40c2c059ff2a4c6ba25854d5b471ad74",
       "version_major": 2,
       "version_minor": 0
      },
      "text/plain": [
       "Loading checkpoint shards:   0%|          | 0/2 [00:00<?, ?it/s]"
      ]
     },
     "metadata": {},
     "output_type": "display_data"
    }
   ],
   "source": [
    "model = AutoModelForCausalLM.from_pretrained(\n",
    "    model_id,\n",
    "    quantization_config=bnb_config,\n",
    "    device_map={'': 0}\n",
    ")\n",
    "model = PeftModel.from_pretrained(model, \"mistralai-medical\")\n",
    "model = model.merge_and_unload()"
   ]
  },
  {
   "cell_type": "code",
   "execution_count": 6,
   "id": "bf774829-b990-4f6f-a243-5e280561366d",
   "metadata": {},
   "outputs": [
    {
     "data": {
      "text/plain": [
       "{'': 0}"
      ]
     },
     "execution_count": 6,
     "metadata": {},
     "output_type": "execute_result"
    }
   ],
   "source": [
    "model.hf_device_map"
   ]
  },
  {
   "cell_type": "code",
   "execution_count": 7,
   "id": "cad3f92b-62f6-4349-831c-2d8445da58d9",
   "metadata": {},
   "outputs": [],
   "source": [
    "tokenizer = AutoTokenizer.from_pretrained(model_id)"
   ]
  },
  {
   "cell_type": "code",
   "execution_count": null,
   "id": "1f66a175-7887-4cdc-b2f4-35ef36fc2eff",
   "metadata": {},
   "outputs": [],
   "source": []
  },
  {
   "cell_type": "code",
   "execution_count": 8,
   "id": "662466c9-3330-4e5e-9062-f69df4658ae9",
   "metadata": {},
   "outputs": [],
   "source": [
    "device = \"cuda:0\""
   ]
  },
  {
   "cell_type": "code",
   "execution_count": 22,
   "id": "a42f97b7-b31a-43ad-b9ea-2fd6d062b31f",
   "metadata": {},
   "outputs": [],
   "source": [
    "def stream(prompt, step):\n",
    "    messages = [\n",
    "        {\"role\": \"user\", \"content\": f\"Given the input: {prompt}\\n\\n{step}\\n\\n\"}\n",
    "    ]\n",
    "    \n",
    "    \n",
    "    encodeds = tokenizer.apply_chat_template(messages, return_tensors=\"pt\")\n",
    "    \n",
    "    model_inputs = encodeds.to(device)\n",
    "    \n",
    "    \n",
    "    generated_ids = model.generate(model_inputs, max_new_tokens=1000, do_sample=True)\n",
    "    decoded = tokenizer.batch_decode(generated_ids)\n",
    "    return decoded[0]\n",
    "    # print(decoded[0])"
   ]
  },
  {
   "cell_type": "code",
   "execution_count": null,
   "id": "147d1db9-5a42-49a5-afcd-38b7d8a144f5",
   "metadata": {},
   "outputs": [],
   "source": []
  },
  {
   "cell_type": "code",
   "execution_count": null,
   "id": "2126e3bb-d847-4808-a95c-458fbec5ccbd",
   "metadata": {},
   "outputs": [],
   "source": []
  },
  {
   "cell_type": "code",
   "execution_count": null,
   "id": "00dff3ad-1db8-4c37-9f6f-fcf420969078",
   "metadata": {},
   "outputs": [],
   "source": []
  },
  {
   "cell_type": "code",
   "execution_count": 29,
   "id": "83978613-d5fc-45f2-84f2-d32c5f378163",
   "metadata": {},
   "outputs": [],
   "source": [
    "def entire_process(prompt):\n",
    "    step1 = \"Extract medical terms from the input above and number them line by line:\\n\"\n",
    "    step1_output = stream(prompt, step1)\n",
    "    print(step1_output)\n",
    "    print('\\n'*3)\n",
    "    # print(step1_output[len(prompt) + 9:].replace('[/INST]', '').replace('<s>', '').replace('</s>', '').strip())\n",
    "    # print(step1_output.replace('[INST]', '').replace('[/INST]', '').replace('<s>', '').replace('</s>', '').strip())\n",
    "    \n",
    "    input_sentence = input(\"Enter the context you want to find:\\n\")\n",
    "    step2 = f\"Extract set of sentences from above context which have the same meaning as: {input_sentence}\"\n",
    "    step2_output = stream(prompt, step2)\n",
    "    # print(step2_output)\n",
    "    print(step2_output.replace(\"<s> [INST] Given the input:\", '').replace(prompt, '').replace('</s>', '').replace('[/INST]', ''))\n",
    "    # print(step2_output.replace(\"<s> [INST] Given the input:\", '').replace(prompt, ''))\n",
    "    print('\\n'*3)\n",
    "    # print(step2_output[len(prompt) + 9:].replace('[INST]', '').replace('[/INST]', '').replace('<s>', '').replace('</s>', '').strip())\n",
    "    \n",
    "    step3 = \"Summarize the content above:\\n\"\n",
    "    step3_output = stream(prompt, step3)\n",
    "    print(step3_output.replace(\"<s> [INST] Given the input:\", '').replace(prompt, '').replace('</s>', '').replace('[/INST]', ''))\n",
    "    # print(step3_output.replace(\"<s> [INST] Given the input:\", '').replace(prompt, ''))\n",
    "    print('\\n'*3)\n",
    "    # print(step3_output[len(prompt) + 9:].replace('[INST]', '').replace('[/INST]', '').replace('<s>', '').replace('</s>', '').strip())    "
   ]
  },
  {
   "cell_type": "code",
   "execution_count": 30,
   "id": "7c2b2146-b40f-432f-8a91-1d2a78b5cc57",
   "metadata": {},
   "outputs": [],
   "source": [
    "with open('sample_input.txt', 'r') as f:\n",
    "    prompt = f.read()"
   ]
  },
  {
   "cell_type": "code",
   "execution_count": 31,
   "id": "06d4ea52-ad38-4746-bf4e-060d1dda3d6f",
   "metadata": {},
   "outputs": [
    {
     "name": "stderr",
     "output_type": "stream",
     "text": [
      "The attention mask and the pad token id were not set. As a consequence, you may observe unexpected behavior. Please pass your input's `attention_mask` to obtain reliable results.\n",
      "Setting `pad_token_id` to `eos_token_id`:2 for open-end generation.\n"
     ]
    },
    {
     "name": "stdout",
     "output_type": "stream",
     "text": [
      "<s> [INST] Given the input: Most Responsible Diagnosis: COPD Exacerbation  Active Issues Managed in Hospital:  Pulmonary edema Microcytic anemia Gout Purpuric rash NYD  Course in Hospital:  Mr. Johnson arrived in the ER from nursing home with a three-day history of worsening shortness of breath, yellow-green sputum, and increased sputum production. He was subsequently diagnosed with a COPD exacerbation and was satting at 84% on 4L O2 by nasal prongs. He was stepped up to BiPAP for 24 hours and prednisone, ciprofloxacin, and around the clock puffers were initiated. By day 2 of admission he was stepped down to oxygen by nasal prongs and QID puffers.  In terms of respiratory complications, Mr. Johnson had a sudden hypoxic resp failure on day 3 of admission. CCOT was involved, but ICU was avoided. He was found to be in pulmonary edema that responded to diuresis. Last documented echo was completed 15 years ago and a repeat echo was ordered to be completed as an outpatient.    Unfortunately on day 4 of admission Mr. Johnson also developed gout in the left MTP. This limited his mobility and contributed to deconditioning for which PT was involved. Also, by day 6 of admission a purpuric rash was noted on the upper and lower extremities, cause was unknown and punch biopsy was performed. The results are still pending. Lastly, upon admission Mr. Johnson was found to have a microcytic anemia. On history Mr. Johnson states he no longer eats much red meat or leafy greens, preferring tea and toast for most of his meals. There was no history of bleeding and previous FOBT testing was normal. Further testing revealed iron deficiency anemia and therapy with ferrous fumarate was initiated.   On day of discharge, Ms. Johnson was on room air but continued to be on Lasix.  Continued Home Medications: Albuterol 2 puffs q 4-6 hours daily Atrovent 2 puffs q 6h ASA 325 mg daily Metoprolol 25 mg BID Atorvastatin 40 mg daily Ramipril 10 mg daily Amlodipine 5 mg daily Metformin 1000 mg BID Terazosin 5 mg qhs Tylenol 325 mg qhs Lactulose 15cc qhs prn Citalopram 20 mg daily Multivitamin  Medications Changes: Ramipril was STOPPED Lasix was STARTED at 20mg PO BID Amlodipine was INCREASED to 10mg daily Ferrous fumarate 325 mg QHS was STARTED  Important Test Results:  CXR completed April 20th 2019 revealed pulmonary edema and enlarged cardiac silhouette Sputum culture collected April 18th 2019 was positive for pseudomonas aeruginosa  Pending Tests or Results: Echo ordered as outpatient Skin biopsy results pending  Follow-up Plans:  We asked the patient to make an appointment with their family MD next week. The patient will follow up in urgent resp clinic in 2-4 weeks time. Since moving to London the patient is not currently followed by a respirologist and since this is the third exacerbation this year a goals of care discussion may be warranted. The patient was also seen by our COPD Navigator Team and arrangements have been made to be seen as an outpatient.\n",
      "\n",
      "Extract medical terms from the input above and number them line by line:\n",
      "\n",
      "\n",
      " [/INST] 1. COPD exacerbation\n",
      "2. Pulmonary edema\n",
      "3. Microcytic anemia\n",
      "4. Gout\n",
      "5. Purpuric rash\n",
      "6. Diuresis\n",
      "7. Pyrazinamide\n",
      "8. Albuterol\n",
      "9. Atrovent\n",
      "10. Aspirin\n",
      "11. Metoprolol\n",
      "12. Atorvastatin\n",
      "13. Amlodipine \n",
      "14. Metformin\n",
      "15. Terazosin\n",
      "16. Lasix\n",
      "17. Citalopram\n",
      "18. Ciprofloxacin\n",
      "19. CCOT (Continuous positive airway pressure)\n",
      "20. ICU (Intensive care unit)\n",
      "21. Echo (Echocardiogram)\n",
      "22. RBC (Red blood cells)\n",
      "23. FOBT (Fecal occult blood test)\n",
      "24. Pseudomonas aeruginosa\n",
      "25. Skin biopsy results\n",
      "26. Goals of care discussion</s>\n",
      "\n",
      "\n",
      "\n",
      "\n"
     ]
    },
    {
     "name": "stdin",
     "output_type": "stream",
     "text": [
      "Enter the context you want to find:\n",
      " microcytic anemia\n"
     ]
    },
    {
     "name": "stderr",
     "output_type": "stream",
     "text": [
      "The attention mask and the pad token id were not set. As a consequence, you may observe unexpected behavior. Please pass your input's `attention_mask` to obtain reliable results.\n",
      "Setting `pad_token_id` to `eos_token_id`:2 for open-end generation.\n",
      "The attention mask and the pad token id were not set. As a consequence, you may observe unexpected behavior. Please pass your input's `attention_mask` to obtain reliable results.\n",
      "Setting `pad_token_id` to `eos_token_id`:2 for open-end generation.\n"
     ]
    },
    {
     "name": "stdout",
     "output_type": "stream",
     "text": [
      " \n",
      "\n",
      "Extract set of sentences from above context which have the same meaning as: microcytic anemia\n",
      "\n",
      "  \"Mr. Johnson was found to have a microcytic anemia.\" \n",
      "\"Lastly, upon admission Mr. Johnson was found to have a microcytic anemia.\" \n",
      "\"Further testing revealed iron deficiency anemia and therapy with ferrous fumarate was initiated.\"\n",
      "\n",
      "\n",
      "\n",
      "\n",
      " \n",
      "\n",
      "Summarize the content above:\n",
      "\n",
      "\n",
      "  The patient is a male with a COPD exacerbation who was admitted to the hospital on April 18th, 2019 with a three-day history of worsening shortness of breath, yellow-green sputum, and increased sputum production. He arrived in the ER from a nursing home. On admission, he was diagnosed with a COPD exacerbation and was treated with BiPAP, prednisone, ciprofloxacin, and around the clock puffers. By day 2 of admission, he was stepped down to oxygen by nasal prongs and a puffers regimen. However, he experienced a sudden hypoxic respiratory failure on day 3 of admission, which required the involvement of CCOT but avoided ICU admission. By day 4, he developed gout in the left MTP and a purpuric rash on the upper and lower extremities. Further testing revealed iron deficiency anemia and therapy with ferrous fumarate was initiated. On day of discharge, he was on room air but continued to be on Lasix. At follow-up, it was found that he had a microcytic anemia and a repeat echo was ordered as an outpatient. The patient was advised to follow-up with their family MD next week and to see an urgent resp clinic in 2-4 weeks. The patient will also see a COPD Navigator Team as an outpatient.\n",
      "\n",
      "\n",
      "\n",
      "\n"
     ]
    }
   ],
   "source": [
    "entire_process(prompt)"
   ]
  },
  {
   "cell_type": "code",
   "execution_count": null,
   "id": "7150c302-e770-4d4c-bf6a-7d1131689f20",
   "metadata": {},
   "outputs": [],
   "source": []
  },
  {
   "cell_type": "code",
   "execution_count": null,
   "id": "d26562dd-7274-47d7-898c-93c76351777f",
   "metadata": {},
   "outputs": [],
   "source": []
  }
 ],
 "metadata": {
  "kernelspec": {
   "display_name": "venv",
   "language": "python",
   "name": "venv"
  },
  "language_info": {
   "codemirror_mode": {
    "name": "ipython",
    "version": 3
   },
   "file_extension": ".py",
   "mimetype": "text/x-python",
   "name": "python",
   "nbconvert_exporter": "python",
   "pygments_lexer": "ipython3",
   "version": "3.10.12"
  }
 },
 "nbformat": 4,
 "nbformat_minor": 5
}
