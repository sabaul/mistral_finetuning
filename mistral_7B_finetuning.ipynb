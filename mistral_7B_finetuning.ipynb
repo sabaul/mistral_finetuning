{
 "cells": [
  {
   "cell_type": "code",
   "execution_count": 1,
   "id": "5d20ceb5-a875-4bcc-83d8-c7229fc263e6",
   "metadata": {},
   "outputs": [],
   "source": [
    "# check if it detects GPU\n",
    "# !nvidia-smi"
   ]
  },
  {
   "cell_type": "code",
   "execution_count": 2,
   "id": "c3c33df5-4e4f-40a7-aa73-a9d8dd65b44f",
   "metadata": {},
   "outputs": [],
   "source": [
    "import warnings\n",
    "warnings.filterwarnings('ignore')"
   ]
  },
  {
   "cell_type": "code",
   "execution_count": 3,
   "id": "4d855c5e-b2c0-4057-a13a-19c34a3e246f",
   "metadata": {},
   "outputs": [],
   "source": [
    "# !pip install -q torch\n",
    "# !pip install tensorboard\n",
    "# !pip install -q git+https://github.com/huggingface/transformers #huggingface transformers for downloading models weights\n",
    "# !pip install -q datasets #huggingface datasets to download and manipulate datasets\n",
    "# !pip install -q peft #Parameter efficient finetuning - for qLora Finetuning\n",
    "# !pip install -q bitsandbytes #For Model weights quantisation\n",
    "# !pip install -q trl #Transformer Reinforcement Learning - For Finetuning using Supervised Fine-tuning\n",
    "# !pip install -q wandb -U #Used to monitor the model score during training"
   ]
  },
  {
   "cell_type": "code",
   "execution_count": 4,
   "id": "769baf6b-19f7-435a-8d56-18b1c4fc009a",
   "metadata": {},
   "outputs": [],
   "source": [
    "import json\n",
    "import re\n",
    "from pprint import pprint\n",
    "\n",
    "import pandas as pd\n",
    "import torch\n",
    "from datasets import Dataset, load_dataset\n",
    "from huggingface_hub import notebook_login\n",
    "from peft import LoraConfig, PeftModel\n",
    "from transformers import (\n",
    "    AutoModelForCausalLM,\n",
    "    AutoTokenizer,\n",
    "    BitsAndBytesConfig,\n",
    "    TrainingArguments,\n",
    "    pipeline,\n",
    "    logging\n",
    ")\n",
    "\n",
    "from trl import SFTTrainer # For Supervised finetuning"
   ]
  },
  {
   "cell_type": "code",
   "execution_count": 5,
   "id": "10a28a47-7fad-4c47-b9b7-2ad99bfb30bd",
   "metadata": {},
   "outputs": [],
   "source": []
  },
  {
   "cell_type": "code",
   "execution_count": null,
   "id": "c4e99075-d85b-408e-8ece-c14c0da0922b",
   "metadata": {},
   "outputs": [],
   "source": []
  },
  {
   "cell_type": "code",
   "execution_count": null,
   "id": "82dbd3da-6b69-40c6-b533-6ace6601b565",
   "metadata": {},
   "outputs": [],
   "source": []
  },
  {
   "cell_type": "markdown",
   "id": "f300b325-bae1-4bf3-9861-a36dfdde59e1",
   "metadata": {},
   "source": [
    "# Load the dataset\n",
    "* Filter out the complete dataset to form the medical dataset\n",
    "* Store it into a jsonl file"
   ]
  },
  {
   "cell_type": "code",
   "execution_count": 6,
   "id": "309498ad-e556-494b-9c83-2d951b343722",
   "metadata": {},
   "outputs": [],
   "source": [
    "# dataset = load_dataset(\"gathnex/Gath_baize\", split=\"train\")\n",
    "# dataset"
   ]
  },
  {
   "cell_type": "code",
   "execution_count": 7,
   "id": "182cc3f8-a56f-43eb-8279-a712754c9e6d",
   "metadata": {},
   "outputs": [],
   "source": [
    "# type(dataset)"
   ]
  },
  {
   "cell_type": "code",
   "execution_count": 8,
   "id": "8b0fe3df-d743-4184-a922-b344d4a75387",
   "metadata": {},
   "outputs": [],
   "source": [
    "# dataset['dataset_origin'][:10]"
   ]
  },
  {
   "cell_type": "code",
   "execution_count": 9,
   "id": "25f3678a-661b-432f-9660-e1caf65ea4dd",
   "metadata": {},
   "outputs": [],
   "source": [
    "# medical_filtered = dataset.filter(lambda example: example['dataset_origin'] == 'medical')"
   ]
  },
  {
   "cell_type": "code",
   "execution_count": 10,
   "id": "5de945c4-8e4d-466b-8a39-2c864d56dd80",
   "metadata": {},
   "outputs": [],
   "source": [
    "# medical_filtered.shape"
   ]
  },
  {
   "cell_type": "code",
   "execution_count": 11,
   "id": "eefd9622-afef-4ea4-8131-ff7ff52e6054",
   "metadata": {},
   "outputs": [],
   "source": [
    "# type(medical_filtered)"
   ]
  },
  {
   "cell_type": "code",
   "execution_count": 12,
   "id": "ff67f83f-aa4d-48ba-8f27-798569965376",
   "metadata": {},
   "outputs": [],
   "source": [
    "# print(medical_filtered[0]['chat_sample'])"
   ]
  },
  {
   "cell_type": "code",
   "execution_count": 13,
   "id": "7b755da8-f9a7-408e-8880-d0dd92871ef7",
   "metadata": {},
   "outputs": [],
   "source": [
    "# Iterate over all the rows, format the medical dataset, and store it in a JSONL file\n",
    "def process_jsonl_file(output_file_path):\n",
    "    with open(output_file_path, \"w\") as output_jsonl_file:\n",
    "        for i in range(medical_filtered.shape[0]):\n",
    "            json_object = {\n",
    "                \"text\": medical_filtered[i]['chat_sample']\n",
    "            }\n",
    "            output_jsonl_file.write(json.dumps(json_object) + \"\\n\")  # Write each object individually with a newline\n",
    "\n",
    "\n",
    "process_jsonl_file(\"./training_dataset.json\")"
   ]
  },
  {
   "cell_type": "code",
   "execution_count": null,
   "id": "a75315d5-f639-4cd5-8ee8-ef4041f040b6",
   "metadata": {},
   "outputs": [],
   "source": []
  },
  {
   "cell_type": "markdown",
   "id": "b1c6999e-5305-457f-b6a8-abcabb70948b",
   "metadata": {},
   "source": [
    "# Load filtered medical dataset"
   ]
  },
  {
   "cell_type": "code",
   "execution_count": 14,
   "id": "743e7c09-825c-4c96-9279-50d27a139dbd",
   "metadata": {},
   "outputs": [
    {
     "data": {
      "text/plain": [
       "Dataset({\n",
       "    features: ['text'],\n",
       "    num_rows: 46867\n",
       "})"
      ]
     },
     "execution_count": 14,
     "metadata": {},
     "output_type": "execute_result"
    }
   ],
   "source": [
    "train_dataset = load_dataset('json', data_files='training_dataset.json' , split='train')\n",
    "train_dataset"
   ]
  },
  {
   "cell_type": "markdown",
   "id": "eaac8f44-4aff-4964-ae80-cbc87785d734",
   "metadata": {},
   "source": [
    "# Setting Model Parameters"
   ]
  },
  {
   "cell_type": "code",
   "execution_count": 15,
   "id": "7df91f01-4a97-4e38-9b1b-200843e279e7",
   "metadata": {},
   "outputs": [],
   "source": [
    "# The model we want to fine-tune\n",
    "model_name = \"mistralai/Mistral-7B-Instruct-v0.1\"\n",
    "\n",
    "# Fine-tuned model name\n",
    "new_model = \"mistralai-medical\""
   ]
  },
  {
   "cell_type": "code",
   "execution_count": 16,
   "id": "c7581aac-fbd3-4b5a-a78f-36774f5d1a6d",
   "metadata": {},
   "outputs": [],
   "source": [
    "################################################################################\n",
    "# QLoRA parameters\n",
    "################################################################################\n",
    "\n",
    "# LoRA attention dimension\n",
    "lora_r = 8\n",
    "\n",
    "# Alpha parameter for LoRA scaling\n",
    "lora_alpha = 8\n",
    "\n",
    "# Dropout probability for LoRA layers\n",
    "lora_dropout = 0.1\n",
    "\n",
    "################################################################################\n",
    "# bitsandbytes parameters\n",
    "################################################################################\n",
    "\n",
    "# Activate 4-bit precision base model loading\n",
    "use_4bit = True\n",
    "\n",
    "# Compute dtype for 4-bit base models\n",
    "bnb_4bit_compute_dtype = \"float16\"\n",
    "\n",
    "# Quantization type (fp4 or nf4)\n",
    "bnb_4bit_quant_type = \"nf4\"\n",
    "\n",
    "# Activate nested quantization for 4-bit base models (double quantization)\n",
    "use_nested_quant = False\n",
    "\n",
    "################################################################################\n",
    "# TrainingArguments parameters\n",
    "################################################################################\n",
    "\n",
    "# Output directory where the model predictions and checkpoints will be stored\n",
    "output_dir = \"./results\"\n",
    "\n",
    "# Number of training epochs\n",
    "num_train_epochs = 10\n",
    "\n",
    "# Enable fp16/bf16 training (set bf16 to True with an A100)\n",
    "fp16 = False\n",
    "bf16 = False\n",
    "\n",
    "# Batch size per GPU for training\n",
    "per_device_train_batch_size = 1\n",
    "\n",
    "# Batch size per GPU for evaluation\n",
    "per_device_eval_batch_size = 1\n",
    "\n",
    "# Number of update steps to accumulate the gradients for\n",
    "gradient_accumulation_steps = 1\n",
    "\n",
    "# Enable gradient checkpointing\n",
    "gradient_checkpointing = True\n",
    "\n",
    "# Maximum gradient normal (gradient clipping)\n",
    "max_grad_norm = 0.3\n",
    "\n",
    "# Initial learning rate (AdamW optimizer)\n",
    "learning_rate = 2e-4\n",
    "\n",
    "# Weight decay to apply to all layers except bias/LayerNorm weights\n",
    "weight_decay = 0.001\n",
    "\n",
    "# Optimizer to use\n",
    "optim = \"paged_adamw_32bit\"\n",
    "\n",
    "# Learning rate schedule (constant a bit better than cosine)\n",
    "lr_scheduler_type = \"constant\"\n",
    "\n",
    "# Number of training steps (overrides num_train_epochs)\n",
    "max_steps = -1\n",
    "\n",
    "# Ratio of steps for a linear warmup (from 0 to learning rate)\n",
    "warmup_ratio = 0.03\n",
    "\n",
    "# Group sequences into batches with same length\n",
    "# Saves memory and speeds up training considerably\n",
    "group_by_length = True\n",
    "\n",
    "# Save checkpoint every X updates steps\n",
    "save_steps = 1000\n",
    "\n",
    "# Log every X updates steps\n",
    "logging_steps = 25\n",
    "\n",
    "################################################################################\n",
    "# SFT parameters\n",
    "################################################################################\n",
    "\n",
    "# Maximum sequence length to use\n",
    "# max_seq_length = None\n",
    "max_seq_length = 1024\n",
    "\n",
    "# Pack multiple short examples in the same input sequence to increase efficiency\n",
    "packing = False\n",
    "\n",
    "# Load the entire model on the GPU 0\n",
    "device_map = {\"\": 0}"
   ]
  },
  {
   "cell_type": "markdown",
   "id": "c61bd8f8-e9ce-4d2f-9f5f-13b17cd540a1",
   "metadata": {},
   "source": [
    "### Lets Load the base model\n",
    "Let's load the Mistral 7B Instruct base model:"
   ]
  },
  {
   "cell_type": "code",
   "execution_count": 17,
   "id": "1f002b88-76d0-404d-8277-bd2ade3bb902",
   "metadata": {},
   "outputs": [
    {
     "data": {
      "application/vnd.jupyter.widget-view+json": {
       "model_id": "092f3596868e49419f08990f0eb60e39",
       "version_major": 2,
       "version_minor": 0
      },
      "text/plain": [
       "Loading checkpoint shards:   0%|          | 0/2 [00:00<?, ?it/s]"
      ]
     },
     "metadata": {},
     "output_type": "display_data"
    },
    {
     "data": {
      "text/plain": [
       "(True, True)"
      ]
     },
     "execution_count": 17,
     "metadata": {},
     "output_type": "execute_result"
    }
   ],
   "source": [
    "# Load the base model with QLoRA configuration\n",
    "compute_dtype = getattr(torch, bnb_4bit_compute_dtype)\n",
    "\n",
    "bnb_config = BitsAndBytesConfig(\n",
    "    load_in_4bit=use_4bit,\n",
    "    bnb_4bit_quant_type=bnb_4bit_quant_type,\n",
    "    bnb_4bit_compute_dtype=compute_dtype,\n",
    "    bnb_4bit_use_double_quant=use_nested_quant,\n",
    ")\n",
    "\n",
    "base_model = AutoModelForCausalLM.from_pretrained(\n",
    "    model_name,\n",
    "    quantization_config=bnb_config,\n",
    "    device_map={\"\": 0}\n",
    ")\n",
    "\n",
    "base_model.config.use_cache = False\n",
    "base_model.config.pretraining_tp = 1\n",
    "\n",
    "# Load MistralAI tokenizer\n",
    "tokenizer = AutoTokenizer.from_pretrained(model_name, trust_remote_code=True)\n",
    "tokenizer.pad_token = tokenizer.eos_token\n",
    "# tokenizer.padding_side = \"right\"\n",
    "tokenizer.padding_side = \"left\"\n",
    "\n",
    "tokenizer.add_eos_token = True\n",
    "tokenizer.add_bos_token, tokenizer.add_eos_token"
   ]
  },
  {
   "cell_type": "code",
   "execution_count": null,
   "id": "15ca7b60-e818-498d-8646-ebe8ddb45df6",
   "metadata": {},
   "outputs": [],
   "source": []
  },
  {
   "cell_type": "markdown",
   "id": "4380311b-758a-4e49-847a-310c010a54f5",
   "metadata": {},
   "source": [
    "## Fine-Tuning with qLora and Supervised Fine-Tuning\n",
    "\n",
    "We're ready to fine-tune our model using qLora. For this tutorial, we'll use the `SFTTrainer` from the `trl` library for supervised fine-tuning. Ensure that you've installed the `trl` library as mentioned in the prerequisites."
   ]
  },
  {
   "cell_type": "code",
   "execution_count": 19,
   "id": "0af87991-24b9-47ae-a0f7-e08e9aa333e4",
   "metadata": {},
   "outputs": [
    {
     "data": {
      "application/vnd.jupyter.widget-view+json": {
       "model_id": "bceddc2b1eab4ec090ae40136b702bb4",
       "version_major": 2,
       "version_minor": 0
      },
      "text/plain": [
       "Map:   0%|          | 0/46867 [00:00<?, ? examples/s]"
      ]
     },
     "metadata": {},
     "output_type": "display_data"
    }
   ],
   "source": [
    "# Load LoRA configuration\n",
    "peft_config = LoraConfig(\n",
    "    lora_alpha=lora_alpha,\n",
    "    lora_dropout=lora_dropout,\n",
    "    r=lora_r,\n",
    "    target_modules=[\n",
    "        \"q_proj\",\n",
    "        \"k_proj\",\n",
    "        \"v_proj\",\n",
    "        \"o_proj\",\n",
    "        \"gate_proj\",\n",
    "        \"up_proj\",\n",
    "        \"down_proj\",\n",
    "        \"lm_head\",\n",
    "    ],\n",
    "    bias=\"none\",\n",
    "    task_type=\"CAUSAL_LM\",\n",
    ")\n",
    "\n",
    "# Set training parameters\n",
    "training_arguments = TrainingArguments(\n",
    "    output_dir=output_dir,\n",
    "    num_train_epochs=num_train_epochs,\n",
    "    per_device_train_batch_size=per_device_train_batch_size,\n",
    "    gradient_accumulation_steps=gradient_accumulation_steps,\n",
    "    optim=optim,\n",
    "    save_steps=save_steps,\n",
    "    logging_steps=logging_steps,\n",
    "    learning_rate=learning_rate,\n",
    "    weight_decay=weight_decay,\n",
    "    fp16=fp16,\n",
    "    bf16=bf16,\n",
    "    max_grad_norm=max_grad_norm,\n",
    "    max_steps=100, # the number of training steps the model will take\n",
    "    warmup_ratio=warmup_ratio,\n",
    "    group_by_length=group_by_length,\n",
    "    lr_scheduler_type=lr_scheduler_type,\n",
    "    report_to=\"tensorboard\"\n",
    ")\n",
    "\n",
    "# Set supervised fine-tuning parameters\n",
    "trainer = SFTTrainer(\n",
    "    model=base_model,\n",
    "    train_dataset=train_dataset,\n",
    "    peft_config=peft_config,\n",
    "    dataset_text_field=\"text\",\n",
    "    max_seq_length=max_seq_length,\n",
    "    tokenizer=tokenizer,\n",
    "    args=training_arguments,\n",
    "    packing=packing,\n",
    ")"
   ]
  },
  {
   "cell_type": "code",
   "execution_count": null,
   "id": "587a8fc6-0b19-4dba-8a76-c99cbfcb5e11",
   "metadata": {},
   "outputs": [],
   "source": []
  },
  {
   "cell_type": "code",
   "execution_count": 20,
   "id": "c69990e1-5c0e-4e55-ab9c-d8bc60beedcd",
   "metadata": {},
   "outputs": [
    {
     "name": "stderr",
     "output_type": "stream",
     "text": [
      "You're using a LlamaTokenizerFast tokenizer. Please note that with a fast tokenizer, using the `__call__` method is faster than using a method to encode the text followed by a call to the `pad` method to get a padded encoding.\n"
     ]
    },
    {
     "data": {
      "text/html": [
       "\n",
       "    <div>\n",
       "      \n",
       "      <progress value='100' max='100' style='width:300px; height:20px; vertical-align: middle;'></progress>\n",
       "      [100/100 18:16, Epoch 0/1]\n",
       "    </div>\n",
       "    <table border=\"1\" class=\"dataframe\">\n",
       "  <thead>\n",
       " <tr style=\"text-align: left;\">\n",
       "      <th>Step</th>\n",
       "      <th>Training Loss</th>\n",
       "    </tr>\n",
       "  </thead>\n",
       "  <tbody>\n",
       "    <tr>\n",
       "      <td>25</td>\n",
       "      <td>0.866400</td>\n",
       "    </tr>\n",
       "    <tr>\n",
       "      <td>50</td>\n",
       "      <td>0.680500</td>\n",
       "    </tr>\n",
       "    <tr>\n",
       "      <td>75</td>\n",
       "      <td>0.670200</td>\n",
       "    </tr>\n",
       "    <tr>\n",
       "      <td>100</td>\n",
       "      <td>0.719900</td>\n",
       "    </tr>\n",
       "  </tbody>\n",
       "</table><p>"
      ],
      "text/plain": [
       "<IPython.core.display.HTML object>"
      ]
     },
     "metadata": {},
     "output_type": "display_data"
    }
   ],
   "source": [
    "# Train model\n",
    "trainer.train()\n",
    "\n",
    "# Save trained model\n",
    "trainer.model.save_pretrained(new_model)"
   ]
  },
  {
   "cell_type": "code",
   "execution_count": null,
   "id": "47199d0f-7589-460e-b892-9520fbf89583",
   "metadata": {},
   "outputs": [],
   "source": []
  },
  {
   "cell_type": "code",
   "execution_count": null,
   "id": "d6adf626-2ed2-4f20-8901-f590a5fe245f",
   "metadata": {},
   "outputs": [],
   "source": []
  }
 ],
 "metadata": {
  "kernelspec": {
   "display_name": "venv",
   "language": "python",
   "name": "venv"
  },
  "language_info": {
   "codemirror_mode": {
    "name": "ipython",
    "version": 3
   },
   "file_extension": ".py",
   "mimetype": "text/x-python",
   "name": "python",
   "nbconvert_exporter": "python",
   "pygments_lexer": "ipython3",
   "version": "3.10.12"
  }
 },
 "nbformat": 4,
 "nbformat_minor": 5
}
